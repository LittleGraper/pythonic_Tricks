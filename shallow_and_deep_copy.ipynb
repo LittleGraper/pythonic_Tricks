{
   "cells": [
      {
         "cell_type": "markdown",
         "metadata": {},
         "source": [
            "# 01 深拷贝与浅拷贝\n",
            "\n",
            "本 Notebook 展示了 Python 列表的引用与深浅拷贝行为。"
         ]
      },
      {
         "cell_type": "markdown",
         "metadata": {},
         "source": [
            "## 示例 1：引用"
         ]
      },
      {
         "cell_type": "code",
         "execution_count": null,
         "metadata": {},
         "outputs": [
            {
               "name": "stdout",
               "output_type": "stream",
               "text": [
                  "a 和 b 是同一个对象, 修改b也会影响 a:\n",
                  "a: ['altered', 2, 3] / Id of a: 4372107584\n",
                  "b: ['altered', 2, 3] / Id of b: 4372107584\n"
               ]
            }
         ],
         "source": [
            "# 示例 1：引用\n",
            "a: list[int] = [1, 2, 3]\n",
            "b: list[int] = a\n",
            "b[0] = \"altered\"  # 修改 b 会影响 a\n",
            "\n",
            "print(\"a 和 b 是同一个对象, 修改b也会影响 a:\")\n",
            "print(\"a:\", a, \"/ Id of a:\", id(a))\n",
            "print(\"b:\", b, \"/ Id of b:\", id(b))"
         ]
      },
      {
         "cell_type": "markdown",
         "metadata": {},
         "source": [
            "## 示例 2.1：浅拷贝"
         ]
      },
      {
         "cell_type": "code",
         "execution_count": null,
         "metadata": {},
         "outputs": [
            {
               "name": "stdout",
               "output_type": "stream",
               "text": [
                  "浅拷贝, 修改副本 c 不会影响 a:\n",
                  "a: [1, 2, 3] / Id of a: 4372104640\n",
                  "c: ['altered', 2, 3] / Id of c: 4372105792\n"
               ]
            }
         ],
         "source": [
            "# 示例 2.1：浅拷贝\n",
            "a: list[int] = [1, 2, 3]\n",
            "c: list[int] = a.copy()  # 浅拷贝\n",
            "print(\"浅拷贝, 修改副本 c 不会影响 a:\")\n",
            "c[0] = \"altered\"  # 修改 c 不会影响 a\n",
            "print(\"a:\", a, \"/ Id of a:\", id(a))\n",
            "print(\"c:\", c, \"/ Id of c:\", id(c))"
         ]
      },
      {
         "cell_type": "markdown",
         "metadata": {},
         "source": [
            "## 示例 2.2：浅拷贝与嵌套列表\n",
            "\n",
            "- 浅拷贝会创建一个新的列表对象，但其中的元素仍然是对原始列表中元素的引用。\n",
            "- 这意味着如果原始列表中的元素是可变对象（如列表），修改这些元素会影响到所有引用它们的列表。\n",
            "- 故浅拷贝只是复制了最外层的结构，而内部的元素仍然是对原始对象的引用。"
         ]
      },
      {
         "cell_type": "code",
         "execution_count": null,
         "metadata": {},
         "outputs": [],
         "source": [
            "# 示例 2.2：嵌套列表的浅拷贝\n",
            "a: list[list[int]] = [[1, 2], [3, 4]]\n",
            "b: list[list[int]] = a.copy()  # 浅拷贝"
         ]
      },
      {
         "cell_type": "code",
         "execution_count": 16,
         "metadata": {},
         "outputs": [
            {
               "name": "stdout",
               "output_type": "stream",
               "text": [
                  "a 跟 b 已经不是同一个对象了：\n",
                  "a: 4372067776\n",
                  "b: 4372401216\n",
                  "\n",
                  "故修改 b 不会影响 a:\n",
                  "a: [[1, 2], [3, 4]]\n",
                  "b: [[1, 2], [3, 4], [5, 6]]\n"
               ]
            }
         ],
         "source": [
            "print(\"a 跟 b 已经不是同一个对象了：\")\n",
            "print(\"a:\", id(a))\n",
            "print(\"b:\", id(b))\n",
            "\n",
            "print(\"\\n故修改 b 不会影响 a:\")\n",
            "b.extend([[5, 6]])\n",
            "print(\"a:\", a)\n",
            "print(\"b:\", b)"
         ]
      },
      {
         "cell_type": "code",
         "execution_count": null,
         "metadata": {},
         "outputs": [
            {
               "name": "stdout",
               "output_type": "stream",
               "text": [
                  "\n",
                  "但是修改 b 的子列表仍会影响 a 的子子列表:\n",
                  "a: [['altered', 2], [3, 4]]\n",
                  "b: [['altered', 2], [3, 4], [5, 6]]\n",
                  "\n",
                  "因为 a 的子列表仍然是对原始列表中元素的引用，所以修改 b 的子列表会影响 a 的子列表:\n",
                  "a[0][0]: 4371952192\n",
                  "b[0][0]: 4371952192\n"
               ]
            }
         ],
         "source": [
            "b[0][0] = \"altered\"  # 修改 b 的嵌套列表会影响 a\n",
            "print(\"\\n但是修改 b 的子列表仍会影响 a 的子子列表:\")\n",
            "print(\"a:\", a)\n",
            "print(\"b:\", b)\n",
            "\n",
            "print(\n",
            "    \"\\n因为 a 的子列表仍然是对原始列表中元素的引用，所以修改 b 的子列表会影响 a 的子列表:\"\n",
            ")\n",
            "print(\"a[0][0]:\", id(a[0][0]))\n",
            "print(\"b[0][0]:\", id(b[0][0]))"
         ]
      },
      {
         "cell_type": "markdown",
         "metadata": {},
         "source": [
            "## 示例 3: 深拷贝\n",
            "- 深拷贝会创建一个新的列表对象，和原始列表完全独立。"
         ]
      },
      {
         "cell_type": "code",
         "execution_count": 24,
         "metadata": {},
         "outputs": [
            {
               "name": "stdout",
               "output_type": "stream",
               "text": [
                  "\n",
                  "深拷贝, 修改副本 b 不会影响 a, 因为它们完全独立:\n",
                  "a: ([[1, 2, 3], [4, 5, 6]], [[7, 8, 9], [10, 11, 12]]) / Id of a: 4372524352\n",
                  "b: (['altered', [4, 5, 6]], [[7, 8, 9], [10, 11, 12]]) / Id of b: 4372505792\n"
               ]
            }
         ],
         "source": [
            "import copy\n",
            "\n",
            "a = [[1, 2, 3], [4, 5, 6]], [[7, 8, 9], [10, 11, 12]]\n",
            "b = copy.deepcopy(a)  # 深拷贝\n",
            "\n",
            "b[0][0] = \"altered\"  # 修改 b 不会影响 a\n",
            "print(\"\\n深拷贝, 修改副本 b 不会影响 a, 因为它们完全独立:\")\n",
            "print(\"a:\", a, \"/ Id of a:\", id(a))\n",
            "print(\"b:\", b, \"/ Id of b:\", id(b))"
         ]
      }
   ],
   "metadata": {
      "kernelspec": {
         "display_name": "intro-fastapi-env",
         "language": "python",
         "name": "python3"
      },
      "language_info": {
         "codemirror_mode": {
            "name": "ipython",
            "version": 3
         },
         "file_extension": ".py",
         "mimetype": "text/x-python",
         "name": "python",
         "nbconvert_exporter": "python",
         "pygments_lexer": "ipython3",
         "version": "3.13.5"
      }
   },
   "nbformat": 4,
   "nbformat_minor": 2
}
